{
 "cells": [
  {
   "cell_type": "code",
   "execution_count": 2,
   "metadata": {},
   "outputs": [],
   "source": [
    "from hdfs import InsecureClient\n",
    "import json"
   ]
  },
  {
   "cell_type": "code",
   "execution_count": 3,
   "metadata": {},
   "outputs": [],
   "source": [
    "def conexion(url,usuario):\n",
    "    \"\"\"\n",
    "    url --string no null, url del host\n",
    "    \n",
    "    Esta función logra la conexion con hdfs \n",
    "    \n",
    "    \"\"\"\n",
    "    try:\n",
    "        client = InsecureClient(url,usuario)\n",
    "        return client\n",
    "    except:\n",
    "        print(\"Ocurrio un error favor de verificar la url del host\")\n",
    "\n",
    "\n",
    "def crear_directorio(client,pathhdfs):\n",
    "    \"\"\"\n",
    "    pathhdfs --string not null \n",
    "    Esta funcion crea un directorio en hdfs, pasandole la ruta donde sera creado\n",
    "    \"\"\"\n",
    "    try:\n",
    "        pathcreado=client.makedirs(pathhdfs)\n",
    "        print(\"se creo el directorio \" + pathhdfs)\n",
    "        return pathcreado\n",
    "    except:\n",
    "        print(\"Ocurrio un error favor de verificar\")\n"
   ]
  },
  {
   "cell_type": "code",
   "execution_count": null,
   "metadata": {},
   "outputs": [],
   "source": [
    "def cargar_archivo(client,pathhdfs,local_path):\n",
    "    try:\n",
    "        client.upload(pathhdfs,local_path)\n",
    "    except:\n",
    "        print(\"Ocurrio un error al cargar tu archivo\")\n",
    "    pass    "
   ]
  },
  {
   "cell_type": "code",
   "execution_count": null,
   "metadata": {},
   "outputs": [],
   "source": [
    "def lista_directorio(client,path):\n",
    "    try:\n",
    "        z=client.list(path)\n",
    "        return z\n",
    "    except:\n",
    "        print(\"Ocurrio un error al listar directorio\")\n",
    "    pass\n",
    "\n"
   ]
  },
  {
   "cell_type": "code",
   "execution_count": null,
   "metadata": {},
   "outputs": [],
   "source": [
    "def lectura_HDFS(cliente,path_archivo):\n",
    "    try: \n",
    "        with cliente.read(\"path_archivo\") as reader:\n",
    "            content = reader.read()\n",
    "        return content\n",
    "    except:\n",
    "        print(\"No se encontro el archivo que esta buscando\")\n",
    "    pass\n"
   ]
  },
  {
   "cell_type": "code",
   "execution_count": null,
   "metadata": {},
   "outputs": [],
   "source": [
    "def eliminar_directorio(client,path_hdfs):\n",
    "    try:\n",
    "        client.delete(path_hdfs)\n",
    "    except:\n",
    "        print(\"No se pudo eliminar su archivo\")\n",
    "    pass\n"
   ]
  },
  {
   "cell_type": "code",
   "execution_count": null,
   "metadata": {},
   "outputs": [],
   "source": [
    "def main():\n",
    "    # Lo que quiero hacer es crear una carpeta donde pondre mi archivo .json(data.json), para posteriormente listar \n",
    "    # los elementos de esa carpeta y luego eliminar el archivo\n",
    "    file='data.json'\n",
    "    url='http://localhost:50070'\n",
    "    user=\"hdfs\"\n",
    "    client=conexion(url,user)\n",
    "    crear_directorio(client,\"/pruebas\")\n",
    "    cargar_archivo(client,\"/pruebas\",file)\n",
    "    lista_directorio(\"/pruebas\")\n",
    "    lectura_HDFS(client,\"/pruebas/data.json\")\n",
    "    eliminar_directorio(client,\"/pruebas/data.json\")\n",
    "    "
   ]
  },
  {
   "cell_type": "code",
   "execution_count": null,
   "metadata": {},
   "outputs": [],
   "source": [
    "if __name__=='__main__':\n",
    "    main()\n",
    "\n",
    "    "
   ]
  }
 ],
 "metadata": {
  "kernelspec": {
   "display_name": "Python 3",
   "language": "python",
   "name": "python3"
  },
  "language_info": {
   "codemirror_mode": {
    "name": "ipython",
    "version": 3
   },
   "file_extension": ".py",
   "mimetype": "text/x-python",
   "name": "python",
   "nbconvert_exporter": "python",
   "pygments_lexer": "ipython3",
   "version": "3.7.4"
  }
 },
 "nbformat": 4,
 "nbformat_minor": 2
}
